{
  "nbformat": 4,
  "nbformat_minor": 0,
  "metadata": {
    "colab": {
      "provenance": [],
      "authorship_tag": "ABX9TyObM8xHFegv21zHPC96O9bm",
      "include_colab_link": true
    },
    "kernelspec": {
      "name": "python3",
      "display_name": "Python 3"
    },
    "language_info": {
      "name": "python"
    }
  },
  "cells": [
    {
      "cell_type": "markdown",
      "metadata": {
        "id": "view-in-github",
        "colab_type": "text"
      },
      "source": [
        "<a href=\"https://colab.research.google.com/github/vigneshvarma28/nlp/blob/main/DAY_04.ipynb\" target=\"_parent\"><img src=\"https://colab.research.google.com/assets/colab-badge.svg\" alt=\"Open In Colab\"/></a>"
      ]
    },
    {
      "cell_type": "code",
      "execution_count": null,
      "metadata": {
        "id": "pwN7m0E5KYHG",
        "outputId": "4e39f3ea-ffde-4b7c-a960-bcd1ada2dcfb",
        "colab": {
          "base_uri": "https://localhost:8080/"
        }
      },
      "outputs": [
        {
          "output_type": "stream",
          "name": "stdout",
          "text": [
            "enter number:7\n",
            "sum : 12\n"
          ]
        }
      ],
      "source": [
        "n=int(input(\"enter number:\"))\n",
        "sum=0\n",
        "for i in range(n+1):\n",
        "  if i%2==0:\n",
        "    sum=sum+i\n",
        "print(\"sum :\",sum)"
      ]
    }
  ]
}