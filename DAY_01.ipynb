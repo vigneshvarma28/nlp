{
  "nbformat": 4,
  "nbformat_minor": 0,
  "metadata": {
    "colab": {
      "provenance": [],
      "toc_visible": true,
      "authorship_tag": "ABX9TyNWIeChMijXEvG9DQmZwrYc",
      "include_colab_link": true
    },
    "kernelspec": {
      "name": "python3",
      "display_name": "Python 3"
    },
    "language_info": {
      "name": "python"
    }
  },
  "cells": [
    {
      "cell_type": "markdown",
      "metadata": {
        "id": "view-in-github",
        "colab_type": "text"
      },
      "source": [
        "<a href=\"https://colab.research.google.com/github/vigneshvarma28/nlp/blob/main/DAY_01.ipynb\" target=\"_parent\"><img src=\"https://colab.research.google.com/assets/colab-badge.svg\" alt=\"Open In Colab\"/></a>"
      ]
    },
    {
      "cell_type": "code",
      "execution_count": null,
      "metadata": {
        "colab": {
          "base_uri": "https://localhost:8080/"
        },
        "id": "2RvFjdl4IpAx",
        "outputId": "88af0de6-56aa-4f74-af56-ef235ee60813"
      },
      "outputs": [
        {
          "output_type": "stream",
          "name": "stdout",
          "text": [
            "10\n",
            "<class 'int'>\n",
            "10.0\n",
            "<class 'float'>\n",
            "NLP\n",
            "<class 'str'>\n",
            "True\n",
            "<class 'bool'>\n"
          ]
        }
      ],
      "source": [
        "a=10\n",
        "b=10.0\n",
        "c=\"NLP\"\n",
        "d=True\n",
        "print(a)\n",
        "print(type(a))\n",
        "print(b)\n",
        "print(type(b))\n",
        "print(c)\n",
        "print(type(c))\n",
        "print(d)\n",
        "print(type(d))"
      ]
    }
  ]
}