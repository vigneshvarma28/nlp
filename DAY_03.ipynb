{
  "nbformat": 4,
  "nbformat_minor": 0,
  "metadata": {
    "colab": {
      "provenance": [],
      "authorship_tag": "ABX9TyM5ix4iURCTKM/32fq7khW7",
      "include_colab_link": true
    },
    "kernelspec": {
      "name": "python3",
      "display_name": "Python 3"
    },
    "language_info": {
      "name": "python"
    }
  },
  "cells": [
    {
      "cell_type": "markdown",
      "metadata": {
        "id": "view-in-github",
        "colab_type": "text"
      },
      "source": [
        "<a href=\"https://colab.research.google.com/github/vigneshvarma28/nlp/blob/main/DAY_03.ipynb\" target=\"_parent\"><img src=\"https://colab.research.google.com/assets/colab-badge.svg\" alt=\"Open In Colab\"/></a>"
      ]
    },
    {
      "cell_type": "code",
      "execution_count": null,
      "metadata": {
        "colab": {
          "base_uri": "https://localhost:8080/"
        },
        "id": "ph2SygqVJ-SR",
        "outputId": "5f6d1e61-50bb-4e30-89c6-9a5e555c1205"
      },
      "outputs": [
        {
          "output_type": "stream",
          "name": "stdout",
          "text": [
            "Enter 1st subject marks:90\n",
            "Enter 2nd subject marks:80\n",
            "Enter 3rd subject marks:70\n",
            "Grade:B\n"
          ]
        }
      ],
      "source": [
        "a=int(input(\"Enter 1st subject marks:\"))\n",
        "b=int(input(\"Enter 2nd subject marks:\"))\n",
        "c=int(input(\"Enter 3rd subject marks:\"))\n",
        "average=((a+b+c)/3)\n",
        "if(average>=90):\n",
        "  print(\"Grade:A\")\n",
        "elif(80<=average<=89):\n",
        "  print(\"Grade:B\")\n",
        "elif(70<=average<=79):\n",
        "  print(\"Grade:C\")\n",
        "else:\n",
        "  print(\"Grade:Fail\")"
      ]
    }
  ]
}