{
  "nbformat": 4,
  "nbformat_minor": 0,
  "metadata": {
    "colab": {
      "provenance": [],
      "authorship_tag": "ABX9TyNSD/Y1TFooAH6y/pT71Rhp",
      "include_colab_link": true
    },
    "kernelspec": {
      "name": "python3",
      "display_name": "Python 3"
    },
    "language_info": {
      "name": "python"
    }
  },
  "cells": [
    {
      "cell_type": "markdown",
      "metadata": {
        "id": "view-in-github",
        "colab_type": "text"
      },
      "source": [
        "<a href=\"https://colab.research.google.com/github/vigneshvarma28/nlp/blob/main/DAY_06.ipynb\" target=\"_parent\"><img src=\"https://colab.research.google.com/assets/colab-badge.svg\" alt=\"Open In Colab\"/></a>"
      ]
    },
    {
      "cell_type": "code",
      "execution_count": null,
      "metadata": {
        "colab": {
          "base_uri": "https://localhost:8080/"
        },
        "id": "w-Xrg2phL5cv",
        "outputId": "3da9c3a2-8830-41d6-9cae-84757025cb80"
      },
      "outputs": [
        {
          "output_type": "stream",
          "name": "stderr",
          "text": [
            "[nltk_data] Downloading package punkt_tab to /root/nltk_data...\n"
          ]
        },
        {
          "output_type": "stream",
          "name": "stdout",
          "text": [
            "Original Text:\n",
            "This is an example sentence for demonstrating text processing using NLTK and SpaCy.\n",
            "\n",
            "Text After Lowercasing and Stopword Removal:\n",
            "example sentence demonstrating text processing using nltk spacy .\n"
          ]
        },
        {
          "output_type": "stream",
          "name": "stderr",
          "text": [
            "[nltk_data]   Unzipping tokenizers/punkt_tab.zip.\n",
            "[nltk_data] Downloading package punkt to /root/nltk_data...\n",
            "[nltk_data]   Package punkt is already up-to-date!\n",
            "[nltk_data] Downloading package stopwords to /root/nltk_data...\n",
            "[nltk_data]   Package stopwords is already up-to-date!\n"
          ]
        }
      ],
      "source": [
        "import nltk\n",
        "from nltk.corpus import stopwords\n",
        "from nltk.tokenize import word_tokenize\n",
        "nltk.download('punkt_tab')\n",
        "nltk.download('punkt')\n",
        "nltk.download('stopwords')\n",
        "text = \"This is an example sentence for demonstrating text processing using NLTK and SpaCy.\"\n",
        "text_lower = text.lower()\n",
        "stop_words = set(stopwords.words('english'))\n",
        "word_tokens = word_tokenize(text_lower)\n",
        "filtered_words = [word for word in word_tokens if word not in stop_words]\n",
        "filtered_text = \" \".join(filtered_words)\n",
        "print(\"Original Text:\")\n",
        "print(text)\n",
        "print(\"\\nText After Lowercasing and Stopword Removal:\")\n",
        "print(filtered_text)\n",
        "\n"
      ]
    }
  ]
}